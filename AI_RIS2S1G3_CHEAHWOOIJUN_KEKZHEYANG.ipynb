{
  "nbformat": 4,
  "nbformat_minor": 0,
  "metadata": {
    "colab": {
      "provenance": [],
      "include_colab_link": true
    },
    "kernelspec": {
      "name": "python3",
      "display_name": "Python 3"
    },
    "language_info": {
      "name": "python"
    }
  },
  "cells": [
    {
      "cell_type": "markdown",
      "metadata": {
        "id": "view-in-github",
        "colab_type": "text"
      },
      "source": [
        "<a href=\"https://colab.research.google.com/github/kekekekekekekekekekekek/Movie-recommender/blob/main/AI_RIS2S1G3_CHEAHWOOIJUN_KEKZHEYANG.ipynb\" target=\"_parent\"><img src=\"https://colab.research.google.com/assets/colab-badge.svg\" alt=\"Open In Colab\"/></a>"
      ]
    },
    {
      "cell_type": "code",
      "execution_count": 1,
      "metadata": {
        "collapsed": true,
        "id": "iDu_R4csGL86",
        "colab": {
          "base_uri": "https://localhost:8080/",
          "height": 383
        },
        "outputId": "4c07be78-9ae2-4921-a34e-b82ff3321d8d"
      },
      "outputs": [
        {
          "output_type": "error",
          "ename": "ModuleNotFoundError",
          "evalue": "No module named 'streamlit'",
          "traceback": [
            "\u001b[0;31m---------------------------------------------------------------------------\u001b[0m",
            "\u001b[0;31mModuleNotFoundError\u001b[0m                       Traceback (most recent call last)",
            "\u001b[0;32m/tmp/ipython-input-297703424.py\u001b[0m in \u001b[0;36m<cell line: 0>\u001b[0;34m()\u001b[0m\n\u001b[1;32m      2\u001b[0m \u001b[0;31m# 📦 Imports\u001b[0m\u001b[0;34m\u001b[0m\u001b[0;34m\u001b[0m\u001b[0m\n\u001b[1;32m      3\u001b[0m \u001b[0;31m# ==========================================\u001b[0m\u001b[0;34m\u001b[0m\u001b[0;34m\u001b[0m\u001b[0m\n\u001b[0;32m----> 4\u001b[0;31m \u001b[0;32mimport\u001b[0m \u001b[0mstreamlit\u001b[0m \u001b[0;32mas\u001b[0m \u001b[0mst\u001b[0m\u001b[0;34m\u001b[0m\u001b[0;34m\u001b[0m\u001b[0m\n\u001b[0m\u001b[1;32m      5\u001b[0m \u001b[0;32mimport\u001b[0m \u001b[0mpandas\u001b[0m \u001b[0;32mas\u001b[0m \u001b[0mpd\u001b[0m\u001b[0;34m\u001b[0m\u001b[0;34m\u001b[0m\u001b[0m\n\u001b[1;32m      6\u001b[0m \u001b[0;32mimport\u001b[0m \u001b[0mnumpy\u001b[0m \u001b[0;32mas\u001b[0m \u001b[0mnp\u001b[0m\u001b[0;34m\u001b[0m\u001b[0;34m\u001b[0m\u001b[0m\n",
            "\u001b[0;31mModuleNotFoundError\u001b[0m: No module named 'streamlit'",
            "",
            "\u001b[0;31m---------------------------------------------------------------------------\u001b[0;32m\nNOTE: If your import is failing due to a missing package, you can\nmanually install dependencies using either !pip or !apt.\n\nTo view examples of installing some common dependencies, click the\n\"Open Examples\" button below.\n\u001b[0;31m---------------------------------------------------------------------------\u001b[0m\n"
          ],
          "errorDetails": {
            "actions": [
              {
                "action": "open_url",
                "actionText": "Open Examples",
                "url": "/notebooks/snippets/importing_libraries.ipynb"
              }
            ]
          }
        }
      ],
      "source": [
        "# ==========================================\n",
        "# 📦 Imports\n",
        "# ==========================================\n",
        "import streamlit as st\n",
        "import pandas as pd\n",
        "import numpy as np\n",
        "import ast\n",
        "import random\n",
        "from sklearn.feature_extraction.text import TfidfVectorizer\n",
        "from sklearn.metrics.pairwise import linear_kernel, cosine_similarity\n",
        "from sklearn.metrics import mean_squared_error\n",
        "import requests\n",
        "from io import StringIO\n",
        "import matplotlib.pyplot as plt\n",
        "import seaborn as sns\n"
      ]
    },
    {
      "cell_type": "code",
      "source": [
        "# ==========================================\n",
        "# ⚙️ Streamlit Page Config\n",
        "# ==========================================\n",
        "st.set_page_config(\n",
        "    page_title=\"Movie Recommender System\",\n",
        "    page_icon=\"🎬\",\n",
        "    layout=\"wide\",\n",
        "    initial_sidebar_state=\"expanded\"\n",
        ")\n"
      ],
      "metadata": {
        "id": "Vhf4lVOmGWnx"
      },
      "execution_count": null,
      "outputs": []
    },
    {
      "cell_type": "code",
      "source": [
        "# ==========================================\n",
        "# 📂 Dataset URLs\n",
        "# ==========================================\n",
        "MOVIES_URL = \"https://drive.google.com/uc?export=download&id=1GOuUEu1-KgepbjTxIOkbAU8VNJ5lfEg3\"\n",
        "CREDITS_URL = \"https://drive.google.com/uc?export=download&id=10iuK9C87fYLyDLJhqT3bpVv1A2IErmHR\"\n",
        "RATINGS_URL = \"https://drive.google.com/uc?export=download&id=122XJoryYXvv3AUa6F_y1KiCcYdXQjEp4\"\n"
      ],
      "metadata": {
        "id": "bK05NxPSG12y"
      },
      "execution_count": null,
      "outputs": []
    },
    {
      "cell_type": "code",
      "source": [
        "# ==========================================\n",
        "# 📂 Load Datasets\n",
        "# ==========================================\n",
        "@st.cache_data\n",
        "def load_data_from_url(url):\n",
        "    response = requests.get(url)\n",
        "    response.raise_for_status()\n",
        "    return pd.read_csv(StringIO(response.text))\n",
        "\n",
        "@st.cache_resource\n",
        "def load_data():\n",
        "    movies = load_data_from_url(MOVIES_URL)\n",
        "    credits = load_data_from_url(CREDITS_URL)\n",
        "    ratings = load_data_from_url(RATINGS_URL)\n",
        "\n",
        "    # Filter movies\n",
        "    movies = movies[movies['vote_count'] > 500]\n",
        "\n",
        "    # Convert IDs\n",
        "    movies['id'] = pd.to_numeric(movies['id'], errors='coerce')\n",
        "    credits['id'] = pd.to_numeric(credits['id'], errors='coerce')\n",
        "    ratings['movieId'] = pd.to_numeric(ratings['movieId'], errors='coerce')\n",
        "    movies = movies.dropna(subset=['id'])\n",
        "    credits = credits.dropna(subset=['id'])\n",
        "    ratings = ratings.dropna(subset=['movieId'])\n",
        "    movies['id'] = movies['id'].astype(int)\n",
        "    credits['id'] = credits['id'].astype(int)\n",
        "    ratings['movieId'] = ratings['movieId'].astype(int)\n",
        "\n",
        "    # Merge movies + credits\n",
        "    movies = movies.merge(credits, on='id', how='inner')\n",
        "\n",
        "    # Clean features\n",
        "    movies['overview'] = movies['overview'].fillna('')\n",
        "    movies['tagline'] = movies['tagline'].fillna('')\n",
        "    movies['description'] = movies['overview'] + \" \" + movies['tagline']\n",
        "    movies = movies[['id', 'title', 'description', 'genres', 'cast', 'crew']]\n",
        "\n",
        "    # Parse\n",
        "    def parse_genres(obj):\n",
        "        try: return [i['name'] for i in ast.literal_eval(obj)]\n",
        "        except: return []\n",
        "    def parse_cast(obj):\n",
        "        try: return [i['name'] for i in ast.literal_eval(obj)[:3]]\n",
        "        except: return []\n",
        "    def parse_crew(obj):\n",
        "        try: return [i['name'] for i in ast.literal_eval(obj) if i['job'] == 'Director']\n",
        "        except: return []\n",
        "\n",
        "    movies['genres'] = movies['genres'].apply(parse_genres).apply(lambda x: \" \".join(x))\n",
        "    movies['cast'] = movies['cast'].apply(parse_cast).apply(lambda x: \" \".join(x))\n",
        "    movies['crew'] = movies['crew'].apply(parse_crew).apply(lambda x: \" \".join(x))\n",
        "\n",
        "    movies['final_features'] = (\n",
        "        movies['description'] + ' ' +\n",
        "        movies['genres'] + ' ' +\n",
        "        movies['cast'] + ' ' +\n",
        "        movies['crew']\n",
        "    )\n",
        "\n",
        "    return movies, ratings\n"
      ],
      "metadata": {
        "id": "GgLZFH5IG7Jv"
      },
      "execution_count": null,
      "outputs": []
    },
    {
      "cell_type": "code",
      "source": [
        "# ==========================================\n",
        "# 🔧 Models: TF-IDF + Collaborative Data\n",
        "# ==========================================\n",
        "@st.cache_resource\n",
        "def create_tfidf_model(movies):\n",
        "    tfidf = TfidfVectorizer(stop_words='english', max_features=5000)\n",
        "    vectors = tfidf.fit_transform(movies['final_features'])\n",
        "    return tfidf, vectors\n",
        "\n",
        "@st.cache_resource\n",
        "def prepare_collaborative_data(movies, ratings):\n",
        "    movies_cf = movies[['id', 'title']].rename(columns={'id': 'movieId'})\n",
        "    ratings = ratings.merge(movies_cf, on=\"movieId\", how=\"inner\")\n",
        "\n",
        "    user_mapping = {1: \"Bob\", 2: \"Alice\", 3: \"Charlie\", 4: \"Diana\", 5: \"Eve\"}\n",
        "    ratings['user_name'] = ratings['userId'].replace(user_mapping)\n",
        "\n",
        "    user_item_matrix = ratings.pivot_table(\n",
        "        index='user_name', columns='title', values='rating'\n",
        "    ).fillna(0)\n",
        "\n",
        "    user_sim = cosine_similarity(user_item_matrix)\n",
        "    user_sim_df = pd.DataFrame(user_sim, index=user_item_matrix.index, columns=user_item_matrix.index)\n",
        "\n",
        "    return ratings, user_item_matrix, user_sim_df\n"
      ],
      "metadata": {
        "id": "Ii_D2X5KG9uc"
      },
      "execution_count": null,
      "outputs": []
    },
    {
      "cell_type": "code",
      "source": [
        "# ==========================================\n",
        "# 🔎 Recommendation Functions\n",
        "# ==========================================\n",
        "def content_based_recommend(movie_title, movies, vectors, top_n=10):\n",
        "    if movie_title not in movies['title'].values:\n",
        "        return \"❌ Movie not found in dataset.\", []\n",
        "    idx = movies[movies['title'] == movie_title].index[0]\n",
        "    cosine_scores = linear_kernel(vectors[idx], vectors).flatten()\n",
        "    similar_indices = cosine_scores.argsort()[-(top_n+1):-1][::-1]\n",
        "    recommendations = movies.iloc[similar_indices].title.tolist()\n",
        "    scores = cosine_scores[similar_indices].tolist()\n",
        "    return \"Content-based recommendations\", [(title, float(score)) for title, score in zip(recommendations, scores)]\n",
        "\n",
        "def collaborative_recommend(user_name, user_item_matrix, user_sim_df, top_n=50):\n",
        "    if user_name not in user_item_matrix.index:\n",
        "        return {}\n",
        "    sim_scores = user_sim_df[user_name].drop(user_name).sort_values(ascending=False)\n",
        "    top_users = sim_scores.index[:5]\n",
        "    neighbor_ratings = user_item_matrix.loc[top_users].mean(axis=0)\n",
        "    watched = user_item_matrix.loc[user_name][user_item_matrix.loc[user_name] > 0].index\n",
        "    neighbor_ratings = neighbor_ratings.drop(watched, errors='ignore')\n",
        "    top_recs = neighbor_ratings.sort_values(ascending=False).head(top_n)\n",
        "    return {title: score for title, score in top_recs.items()}\n",
        "\n",
        "def hybrid_recommend(user_name, liked_movie, movies, vectors, user_item_matrix, user_sim_df, alpha=0.5, top_n=10):\n",
        "    if not user_name or user_name.strip() == \"\" or user_name == \"-\":\n",
        "        random_id = random.randint(6, 671)\n",
        "        user_name = f\"User_{random_id}\"\n",
        "    collab_scores = collaborative_recommend(user_name, user_item_matrix, user_sim_df, top_n=50)\n",
        "    if liked_movie not in movies['title'].values:\n",
        "        return user_name, [(\"❌ Movie not found\", 0.0)]\n",
        "    idx = movies.index[movies['title'] == liked_movie][0]\n",
        "    cs = linear_kernel(vectors[idx], vectors).flatten()\n",
        "    content_scores = {movies.iloc[i].title: float(cs[i]) for i in cs.argsort()[-51:-1]}\n",
        "    all_titles = set(collab_scores.keys()) | set(content_scores.keys())\n",
        "    hybrid_scores = {t: alpha*content_scores.get(t, 0.0) + (1-alpha)*collab_scores.get(t, 0.0) for t in all_titles}\n",
        "    ranked = sorted(hybrid_scores.items(), key=lambda x: x[1], reverse=True)[:top_n]\n",
        "    return user_name, [(t, float(s)) for t, s in ranked]\n"
      ],
      "metadata": {
        "id": "ot9I0mkTG_c0"
      },
      "execution_count": null,
      "outputs": []
    },
    {
      "cell_type": "code",
      "source": [
        "# ==========================================\n",
        "# 📊 Evaluation Helpers\n",
        "# ==========================================\n",
        "def build_eval_helpers(movies, ratings, vectors):\n",
        "    content_similarity = linear_kernel(vectors, vectors)\n",
        "    ratings_aggregated = ratings.groupby(['userId', 'movieId'])['rating'].mean().reset_index()\n",
        "    ratings_matrix = ratings_aggregated.pivot(index=\"userId\", columns=\"movieId\", values=\"rating\").fillna(0)\n",
        "    user_sim = cosine_similarity(ratings_matrix)\n",
        "    user_sim_df = pd.DataFrame(user_sim, index=ratings_matrix.index, columns=ratings_matrix.index)\n",
        "\n",
        "    def content_predict(user_id, movie_id):\n",
        "        if movie_id not in movies['id'].values:\n",
        "            return None\n",
        "        idx = movies[movies['id'] == movie_id].index[0]\n",
        "        sims = content_similarity[idx]\n",
        "        user_ratings = ratings[ratings['userId'] == user_id]\n",
        "        if user_ratings.empty:\n",
        "            return None\n",
        "        sim_scores = []\n",
        "        for _, row in user_ratings.iterrows():\n",
        "            if row['movieId'] in movies['id'].values:\n",
        "                jdx = movies[movies['id'] == row['movieId']].index[0]\n",
        "                sim_scores.append((row['rating'], sims[jdx]))\n",
        "        if not sim_scores:\n",
        "            return None\n",
        "        weighted_sum = sum(r*s for r,s in sim_scores)\n",
        "        sim_sum = sum(s for _,s in sim_scores)\n",
        "        return weighted_sum/sim_sum if sim_sum != 0 else None\n",
        "\n",
        "    def collab_predict(user_id, movie_id):\n",
        "        if movie_id not in ratings_matrix.columns:\n",
        "            return None\n",
        "        if user_id not in user_sim_df.index:\n",
        "            return None\n",
        "        sims = user_sim_df[user_id].drop(user_id, errors='ignore')\n",
        "        top_users = sims.sort_values(ascending=False).head(5).index\n",
        "        if top_users.empty:\n",
        "            return None\n",
        "        top_ratings = ratings_matrix.loc[top_users, movie_id]\n",
        "        weights = sims.loc[top_users]\n",
        "        if weights.sum() == 0:\n",
        "            return None\n",
        "        return np.dot(top_ratings, weights)/weights.sum()\n",
        "\n",
        "    def hybrid_predict(user_id, movie_id, alpha=0.5):\n",
        "        cp = content_predict(user_id, movie_id)\n",
        "        cf = collab_predict(user_id, movie_id)\n",
        "        if cp is None and cf is None:\n",
        "            return None\n",
        "        if cp is None: return cf\n",
        "        if cf is None: return cp\n",
        "        return alpha*cp + (1-alpha)*cf\n",
        "\n",
        "    return content_predict, collab_predict, hybrid_predict\n",
        "\n",
        "def evaluate_model(predict_func, ratings_aggregated, n_samples=300):\n",
        "    test = ratings_aggregated.sample(n_samples, random_state=42)\n",
        "    preds, truths = [], []\n",
        "    for _, row in test.iterrows():\n",
        "        pred = predict_func(row['userId'], row['movieId'])\n",
        "        if pred is not None:\n",
        "            preds.append(pred)\n",
        "            truths.append(row['rating'])\n",
        "    if not preds:\n",
        "        return None, None\n",
        "    mse = mean_squared_error(truths, preds)\n",
        "    rmse = np.sqrt(mse)\n",
        "    return mse, rmse\n"
      ],
      "metadata": {
        "id": "8YYmi5GiHqSy"
      },
      "execution_count": null,
      "outputs": []
    },
    {
      "cell_type": "code",
      "source": [
        "# ==========================================\n",
        "# 🚀 Main App\n",
        "# ==========================================\n",
        "def main():\n",
        "    st.title(\"🎬 Movie Recommender System\")\n",
        "\n",
        "    with st.spinner(\"Loading data and building models...\"):\n",
        "        movies, ratings = load_data()\n",
        "        tfidf, vectors = create_tfidf_model(movies)\n",
        "        ratings, user_item_matrix, user_sim_df = prepare_collaborative_data(movies, ratings)\n",
        "\n",
        "    # 🎭 Recommendation Section\n",
        "    st.header(\"Movie Recommendations\")\n",
        "    rec_type = st.radio(\"Recommendation Type\", [\"Content-Based\", \"Hybrid\"])\n",
        "    user_choices = [\"-\", \"Bob\", \"Alice\", \"Charlie\", \"Diana\", \"Eve\"]\n",
        "    if rec_type == \"Hybrid\":\n",
        "        user_choice = st.selectbox(\"Select Movie Critic\", user_choices)\n",
        "    else:\n",
        "        user_choice = \"-\"\n",
        "    movie_choices = sorted(movies['title'].unique().tolist())\n",
        "    movie_title = st.selectbox(\"Select a Movie\", movie_choices)\n",
        "    num_recs = st.slider(\"Number of Recommendations\", 1, 20, 10)\n",
        "\n",
        "    if st.button(\"Get Recommendations\"):\n",
        "        if rec_type == \"Content-Based\":\n",
        "            method_name, recs = content_based_recommend(movie_title, movies, vectors, top_n=num_recs)\n",
        "            resolved_user = \"Content-Based Filtering\"\n",
        "        else:\n",
        "            user_input = \"\" if (user_choice is None or user_choice == \"-\") else user_choice\n",
        "            resolved_user, recs = hybrid_recommend(user_input, movie_title, movies, vectors, user_item_matrix, user_sim_df, alpha=0.5, top_n=num_recs)\n",
        "            method_name = \"Hybrid recommendations\"\n",
        "\n",
        "        if isinstance(recs, str) or len(recs) == 0:\n",
        "            st.error(recs if isinstance(recs, str) else \"❌ No recommendations found.\")\n",
        "        else:\n",
        "            scores = [s for _, s in recs]\n",
        "            max_score = max(scores) if scores else 1.0\n",
        "            rows = []\n",
        "            for i, (title, score) in enumerate(recs, start=1):\n",
        "                norm_percentage = (score / max_score) * 100 if max_score > 0 else 0\n",
        "                rows.append([f\"{i}. {title}\", f\"{norm_percentage:.1f}%\"])\n",
        "            user_display = resolved_user if rec_type == \"Hybrid\" else \"Content-Based Filtering\"\n",
        "            st.subheader(f\"🎭 {method_name} for {user_display} (based on {movie_title}):\")\n",
        "            rec_df = pd.DataFrame(rows, columns=[\"Movie\", \"Score\"])\n",
        "            st.table(rec_df)\n",
        "\n",
        "    # 📊 Evaluation Section\n",
        "    st.header(\"📊 Model Evaluation\")\n",
        "    content_predict, collab_predict, hybrid_predict = build_eval_helpers(movies, ratings, vectors)\n",
        "    ratings_aggregated = ratings.groupby(['userId', 'movieId'])['rating'].mean().reset_index()\n",
        "\n",
        "    mse_content, rmse_content = evaluate_model(content_predict, ratings_aggregated)\n",
        "    mse_collab, rmse_collab = evaluate_model(collab_predict, ratings_aggregated)\n",
        "    mse_hybrid, rmse_hybrid = evaluate_model(hybrid_predict, ratings_aggregated)\n",
        "\n",
        "    results_df = pd.DataFrame({\n",
        "        \"System\": [\"Content-Based\", \"Collaborative\", \"Hybrid\"],\n",
        "        \"MSE\": [mse_content, mse_collab, mse_hybrid],\n",
        "        \"RMSE\": [rmse_content, rmse_collab, rmse_hybrid]\n",
        "    })\n",
        "    st.write(\"### Evaluation Results\")\n",
        "    st.dataframe(results_df)\n",
        "\n",
        "    # RMSE Plot\n",
        "    fig, ax = plt.subplots(figsize=(6,4))\n",
        "    sns.barplot(x=\"System\", y=\"RMSE\", data=results_df, palette=\"viridis\", ax=ax)\n",
        "    ax.set_title(\"RMSE Comparison (Lower is Better)\")\n",
        "    st.pyplot(fig)\n",
        "\n",
        "    # MSE Plot\n",
        "    fig, ax = plt.subplots(figsize=(6,4))\n",
        "    sns.barplot(x=\"System\", y=\"MSE\", data=results_df, palette=\"magma\", ax=ax)\n",
        "    ax.set_title(\"MSE Comparison (Lower is Better)\")\n",
        "    st.pyplot(fig)\n",
        "\n",
        "if __name__ == \"__main__\":\n",
        "    main()\n"
      ],
      "metadata": {
        "colab": {
          "base_uri": "https://localhost:8080/",
          "height": 1000
        },
        "id": "medWWRhf1edi",
        "outputId": "1f2ad628-005c-4902-ce13-0104ffb4fa1e"
      },
      "execution_count": null,
      "outputs": [
        {
          "output_type": "stream",
          "name": "stdout",
          "text": [
            "📊 Evaluation Results:\n",
            "          System       MSE      RMSE\n",
            "0  Content-Based  0.278178  0.527426\n",
            "1  Collaborative  5.172266  2.274262\n",
            "2         Hybrid  1.493688  1.222165\n"
          ]
        },
        {
          "output_type": "stream",
          "name": "stderr",
          "text": [
            "/tmp/ipython-input-3011192621.py:96: FutureWarning: \n",
            "\n",
            "Passing `palette` without assigning `hue` is deprecated and will be removed in v0.14.0. Assign the `x` variable to `hue` and set `legend=False` for the same effect.\n",
            "\n",
            "  sns.barplot(x=\"System\", y=\"RMSE\", data=results_df, palette=\"viridis\")\n"
          ]
        },
        {
          "output_type": "display_data",
          "data": {
            "text/plain": [
              "<Figure size 800x400 with 1 Axes>"
            ],
            "image/png": "[encoded data removed]"
          },
          "metadata": {}
        },
        {
          "output_type": "stream",
          "name": "stderr",
          "text": [
            "/tmp/ipython-input-3011192621.py:101: FutureWarning: \n",
            "\n",
            "Passing `palette` without assigning `hue` is deprecated and will be removed in v0.14.0. Assign the `x` variable to `hue` and set `legend=False` for the same effect.\n",
            "\n",
            "  sns.barplot(x=\"System\", y=\"MSE\", data=results_df, palette=\"magma\")\n"
          ]
        },
        {
          "output_type": "display_data",
          "data": {
            "text/plain": [
              "<Figure size 800x400 with 1 Axes>"
            ],
            "image/png": "[encoded data removed]"
          },
          "metadata": {}
        }
      ]
    },
    {
      "cell_type": "code",
      "source": [
        "# Cell 8: Gradio UI setup with toggle\n",
        "# Gradio UI setup\n",
        "user_choices = [\"-\", \"Bob\", \"Alice\", \"Charlie\", \"Diana\", \"Eve\"]\n",
        "movie_choices = sorted(movies['title'].unique().tolist())\n",
        "\n",
        "def get_recommendations(recommendation_type, user_choice, movie_title, num_recs):\n",
        "    if not movie_title or movie_title.strip() == \"\":\n",
        "        return \"❌ Please select a movie first.\"\n",
        "\n",
        "    if recommendation_type == \"Content-Based\":\n",
        "        method_name, recs = content_based_recommend(movie_title, top_n=num_recs)\n",
        "        resolved_user = \"Content-Based Filtering\"\n",
        "    else:  # Hybrid\n",
        "        user_input = \"\" if (user_choice is None or user_choice == \"-\") else user_choice\n",
        "        resolved_user, recs = hybrid_recommend(user_input, movie_title, alpha=0.5, top_n=num_recs)\n",
        "        method_name = \"Hybrid recommendations\"\n",
        "\n",
        "    # Check if we got an error message\n",
        "    if isinstance(recs, str) or len(recs) == 0:\n",
        "        return recs if isinstance(recs, str) else \"❌ No recommendations found.\"\n",
        "\n",
        "    # Extract scores for normalization\n",
        "    scores = [s for _, s in recs]\n",
        "    max_score = max(scores) if scores else 1.0\n",
        "\n",
        "    # Normalize scores so the top one is 100%\n",
        "    rows = []\n",
        "    for i, (title, score) in enumerate(recs, start=1):\n",
        "        norm_percentage = (score / max_score) * 100 if max_score > 0 else 0\n",
        "        rows.append([f\"{i}. {title}\", f\"{norm_percentage:.1f}%\"])\n",
        "\n",
        "    # Build HTML table\n",
        "    rows_html = \"\".join(\n",
        "        f\"<tr><td style='padding:6px 12px;border-bottom:1px solid #eee;'>{movie}</td>\"\n",
        "        f\"<td style='padding:6px 12px;text-align:center;border-bottom:1px solid #eee;'>{score}</td></tr>\"\n",
        "        for movie, score in rows\n",
        "    )\n",
        "\n",
        "    user_display = resolved_user if recommendation_type == \"Hybrid\" else \"Content-Based Filtering\"\n",
        "\n",
        "    table_html = (\n",
        "        f\"<div style='font-weight:600;margin:6px 0;'>🎭 {method_name} for {user_display} (based on {movie_title}):</div>\"\n",
        "        \"<table style='width:100%;border-collapse:collapse;font-size:15px;'>\"\n",
        "        \"<thead><tr><th style='text-align:left;padding:6px 12px;border-bottom:2px solid #ccc;'>Movie</th>\"\n",
        "        \"<th style='text-align:center;padding:6px 12px;border-bottom:2px solid #ccc;'>Score</th></tr></thead>\"\n",
        "        f\"<tbody>{rows_html}</tbody></table>\"\n",
        "    )\n",
        "\n",
        "    return table_html\n",
        "\n",
        "with gr.Blocks() as demo:\n",
        "    gr.Markdown(\"## 🎬 Movie Recommender System\")\n",
        "\n",
        "    # Toggle for recommendation type\n",
        "    recommendation_type = gr.Radio(\n",
        "        choices=[\"Content-Based\", \"Hybrid\"],\n",
        "        value=\"Content-Based\",\n",
        "        label=\"Recommendation Type\"\n",
        "    )\n",
        "\n",
        "    with gr.Row():\n",
        "        user_dropdown = gr.Dropdown(\n",
        "            user_choices,\n",
        "            label=\"Select Movie Critic (for Hybrid only)\",\n",
        "            value=\"-\",\n",
        "            interactive=True\n",
        "        )\n",
        "        movie_dropdown = gr.Dropdown(\n",
        "            movie_choices,\n",
        "            label=\"Select a Movie\",\n",
        "            interactive=True\n",
        "        )\n",
        "\n",
        "    num_recs = gr.Slider(\n",
        "        1, 20, value=10, step=1,\n",
        "        label=\"Number of Recommendations\"\n",
        "    )\n",
        "\n",
        "    output_html = gr.HTML()\n",
        "\n",
        "    # Show/hide user dropdown based on recommendation type\n",
        "    def toggle_user_dropdown(rec_type):\n",
        "        return gr.Dropdown(visible=(rec_type == \"Hybrid\"))\n",
        "\n",
        "    recommendation_type.change(\n",
        "        fn=toggle_user_dropdown,\n",
        "        inputs=recommendation_type,\n",
        "        outputs=user_dropdown\n",
        "    )\n",
        "\n",
        "    gr.Button(\"✨ Get Recommendations\").click(\n",
        "        get_recommendations,\n",
        "        [recommendation_type, user_dropdown, movie_dropdown, num_recs],\n",
        "        output_html\n",
        "    )\n",
        "\n",
        "# Launch the interface\n",
        "demo.launch()"
      ],
      "metadata": {
        "colab": {
          "base_uri": "https://localhost:8080/",
          "height": 633
        },
        "id": "R3sWdAX8HtCW",
        "outputId": "5510e750-4cbe-434e-beba-a0b443551c58"
      },
      "execution_count": null,
      "outputs": [
        {
          "output_type": "stream",
          "name": "stdout",
          "text": [
            "It looks like you are running Gradio on a hosted Jupyter notebook, which requires `share=True`. Automatically setting `share=True` (you can turn this off by setting `share=False` in `launch()` explicitly).\n",
            "\n",
            "Colab notebook detected. To show errors in colab notebook, set debug=True in launch()\n",
            "* Running on public URL: https://b2d1c786515ef52d3a.gradio.live\n",
            "\n",
            "This share link expires in 1 week. For free permanent hosting and GPU upgrades, run `gradio deploy` from the terminal in the working directory to deploy to Hugging Face Spaces (https://huggingface.co/spaces)\n"
          ]
        },
        {
          "output_type": "display_data",
          "data": {
            "text/plain": [
              "<IPython.core.display.HTML object>"
            ],
            "text/html": [
              "<div><iframe src=\"https://b2d1c786515ef52d3a.gradio.live\" width=\"100%\" height=\"500\" allow=\"autoplay; camera; microphone; clipboard-read; clipboard-write;\" frameborder=\"0\" allowfullscreen></iframe></div>"
            ]
          },
          "metadata": {}
        },
        {
          "output_type": "execute_result",
          "data": {
            "text/plain": []
          },
          "metadata": {},
          "execution_count": 9
        }
      ]
    }
  ]
}